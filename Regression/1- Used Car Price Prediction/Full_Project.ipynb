{
 "cells": [
  {
   "cell_type": "markdown",
   "id": "6f6c6dae",
   "metadata": {},
   "source": [
    "# <center>Car Price Prediction </center>"
   ]
  },
  {
   "cell_type": "markdown",
   "id": "99f6df16",
   "metadata": {},
   "source": [
    "# Outlines \n",
    "> Project target : Predict Used car price based on car specifications \n",
    "1. Data cleaning \n",
    "2. feature engineering \n",
    "3. Getting more insights \n",
    "4. Data Pre-processing\n",
    "5. modeling \n",
    "6. evalution "
   ]
  },
  {
   "cell_type": "code",
   "execution_count": 1,
   "id": "c2912e5d",
   "metadata": {},
   "outputs": [],
   "source": [
    "# Packages for EDA \n",
    "import pandas as pd \n",
    "import numpy as np \n",
    "import seaborn as sns \n",
    "\n",
    "# Data Preprocessing\n",
    "from sklearn.model_selection import train_test_split\n",
    "import category_encoders as ce\n",
    "from sklearn.metrics import mean_squared_error\n",
    "from sklearn.preprocessing import PowerTransformer\n",
    "\n",
    "# Modeling\n",
    "from sklearn.linear_model import LinearRegression\n",
    "from sklearn.linear_model import LassoCV\n",
    "from sklearn.linear_model import RidgeCV\n",
    "from sklearn.linear_model import ElasticNetCV\n",
    "np.seterr(divide='ignore', invalid='ignore', over='ignore')\n",
    "\n",
    "\n",
    "# Showing Plots inside notebook\n",
    "%matplotlib inline  \n",
    "sns.set(rc={'figure.figsize': [7, 14]}, font_scale=1.2) # Standard figure size for all "
   ]
  },
  {
   "cell_type": "code",
   "execution_count": 2,
   "id": "7ea39d9f",
   "metadata": {},
   "outputs": [
    {
     "data": {
      "text/html": [
       "<div>\n",
       "<style scoped>\n",
       "    .dataframe tbody tr th:only-of-type {\n",
       "        vertical-align: middle;\n",
       "    }\n",
       "\n",
       "    .dataframe tbody tr th {\n",
       "        vertical-align: top;\n",
       "    }\n",
       "\n",
       "    .dataframe thead th {\n",
       "        text-align: right;\n",
       "    }\n",
       "</style>\n",
       "<table border=\"1\" class=\"dataframe\">\n",
       "  <thead>\n",
       "    <tr style=\"text-align: right;\">\n",
       "      <th></th>\n",
       "      <th>Name</th>\n",
       "      <th>Location</th>\n",
       "      <th>Year</th>\n",
       "      <th>Kilometers_Driven</th>\n",
       "      <th>Fuel_Type</th>\n",
       "      <th>Transmission</th>\n",
       "      <th>Owner_Type</th>\n",
       "      <th>Mileage</th>\n",
       "      <th>Engine</th>\n",
       "      <th>Power</th>\n",
       "      <th>Seats</th>\n",
       "      <th>New_Price</th>\n",
       "      <th>Price</th>\n",
       "    </tr>\n",
       "  </thead>\n",
       "  <tbody>\n",
       "    <tr>\n",
       "      <th>751</th>\n",
       "      <td>Jaguar XF 2.2 Litre Luxury</td>\n",
       "      <td>Coimbatore</td>\n",
       "      <td>2016</td>\n",
       "      <td>47877</td>\n",
       "      <td>Diesel</td>\n",
       "      <td>Automatic</td>\n",
       "      <td>First</td>\n",
       "      <td>16.36 kmpl</td>\n",
       "      <td>2179 CC</td>\n",
       "      <td>187.7 bhp</td>\n",
       "      <td>5.0</td>\n",
       "      <td>NaN</td>\n",
       "      <td>35.68</td>\n",
       "    </tr>\n",
       "    <tr>\n",
       "      <th>544</th>\n",
       "      <td>Mercedes-Benz New C-Class Progressive C 200</td>\n",
       "      <td>Kochi</td>\n",
       "      <td>2019</td>\n",
       "      <td>13190</td>\n",
       "      <td>Petrol</td>\n",
       "      <td>Automatic</td>\n",
       "      <td>First</td>\n",
       "      <td>0.0 kmpl</td>\n",
       "      <td>1950 CC</td>\n",
       "      <td>181.43 bhp</td>\n",
       "      <td>5.0</td>\n",
       "      <td>49.49 Lakh</td>\n",
       "      <td>38.99</td>\n",
       "    </tr>\n",
       "    <tr>\n",
       "      <th>4065</th>\n",
       "      <td>Ford Ecosport 1.0 Ecoboost Titanium</td>\n",
       "      <td>Kochi</td>\n",
       "      <td>2014</td>\n",
       "      <td>43316</td>\n",
       "      <td>Petrol</td>\n",
       "      <td>Manual</td>\n",
       "      <td>First</td>\n",
       "      <td>18.88 kmpl</td>\n",
       "      <td>999 CC</td>\n",
       "      <td>123.37 bhp</td>\n",
       "      <td>5.0</td>\n",
       "      <td>NaN</td>\n",
       "      <td>6.22</td>\n",
       "    </tr>\n",
       "    <tr>\n",
       "      <th>5948</th>\n",
       "      <td>Skoda Laura L and K AT</td>\n",
       "      <td>Hyderabad</td>\n",
       "      <td>2007</td>\n",
       "      <td>91000</td>\n",
       "      <td>Diesel</td>\n",
       "      <td>Automatic</td>\n",
       "      <td>Second</td>\n",
       "      <td>15.6 kmpl</td>\n",
       "      <td>1896 CC</td>\n",
       "      <td>106 bhp</td>\n",
       "      <td>5.0</td>\n",
       "      <td>NaN</td>\n",
       "      <td>2.45</td>\n",
       "    </tr>\n",
       "    <tr>\n",
       "      <th>2272</th>\n",
       "      <td>Ford Figo Diesel Titanium</td>\n",
       "      <td>Pune</td>\n",
       "      <td>2011</td>\n",
       "      <td>95000</td>\n",
       "      <td>Diesel</td>\n",
       "      <td>Manual</td>\n",
       "      <td>Third</td>\n",
       "      <td>20.0 kmpl</td>\n",
       "      <td>1399 CC</td>\n",
       "      <td>68 bhp</td>\n",
       "      <td>5.0</td>\n",
       "      <td>NaN</td>\n",
       "      <td>2.35</td>\n",
       "    </tr>\n",
       "  </tbody>\n",
       "</table>\n",
       "</div>"
      ],
      "text/plain": [
       "                                             Name    Location  Year  \\\n",
       "751                    Jaguar XF 2.2 Litre Luxury  Coimbatore  2016   \n",
       "544   Mercedes-Benz New C-Class Progressive C 200       Kochi  2019   \n",
       "4065          Ford Ecosport 1.0 Ecoboost Titanium       Kochi  2014   \n",
       "5948                       Skoda Laura L and K AT   Hyderabad  2007   \n",
       "2272                    Ford Figo Diesel Titanium        Pune  2011   \n",
       "\n",
       "      Kilometers_Driven Fuel_Type Transmission Owner_Type     Mileage  \\\n",
       "751               47877    Diesel    Automatic      First  16.36 kmpl   \n",
       "544               13190    Petrol    Automatic      First    0.0 kmpl   \n",
       "4065              43316    Petrol       Manual      First  18.88 kmpl   \n",
       "5948              91000    Diesel    Automatic     Second   15.6 kmpl   \n",
       "2272              95000    Diesel       Manual      Third   20.0 kmpl   \n",
       "\n",
       "       Engine       Power  Seats   New_Price  Price  \n",
       "751   2179 CC   187.7 bhp    5.0         NaN  35.68  \n",
       "544   1950 CC  181.43 bhp    5.0  49.49 Lakh  38.99  \n",
       "4065   999 CC  123.37 bhp    5.0         NaN   6.22  \n",
       "5948  1896 CC     106 bhp    5.0         NaN   2.45  \n",
       "2272  1399 CC      68 bhp    5.0         NaN   2.35  "
      ]
     },
     "execution_count": 2,
     "metadata": {},
     "output_type": "execute_result"
    }
   ],
   "source": [
    "df = pd.read_csv(\"Data//train.csv\")\n",
    "df.sample(5)"
   ]
  },
  {
   "cell_type": "markdown",
   "id": "4b3cf38d",
   "metadata": {},
   "source": [
    "# 1. Data cleaning \n"
   ]
  },
  {
   "cell_type": "markdown",
   "id": "d47b30df",
   "metadata": {},
   "source": [
    "### 1.1 Investegation "
   ]
  },
  {
   "cell_type": "code",
   "execution_count": 3,
   "id": "5551d048",
   "metadata": {
    "scrolled": true
   },
   "outputs": [
    {
     "name": "stdout",
     "output_type": "stream",
     "text": [
      "<class 'pandas.core.frame.DataFrame'>\n",
      "RangeIndex: 6019 entries, 0 to 6018\n",
      "Data columns (total 13 columns):\n",
      " #   Column             Non-Null Count  Dtype  \n",
      "---  ------             --------------  -----  \n",
      " 0   Name               6019 non-null   object \n",
      " 1   Location           6019 non-null   object \n",
      " 2   Year               6019 non-null   int64  \n",
      " 3   Kilometers_Driven  6019 non-null   int64  \n",
      " 4   Fuel_Type          6019 non-null   object \n",
      " 5   Transmission       6019 non-null   object \n",
      " 6   Owner_Type         6019 non-null   object \n",
      " 7   Mileage            6017 non-null   object \n",
      " 8   Engine             5983 non-null   object \n",
      " 9   Power              5983 non-null   object \n",
      " 10  Seats              5977 non-null   float64\n",
      " 11  New_Price          824 non-null    object \n",
      " 12  Price              6019 non-null   float64\n",
      "dtypes: float64(2), int64(2), object(9)\n",
      "memory usage: 611.4+ KB\n"
     ]
    }
   ],
   "source": [
    "df.info()"
   ]
  },
  {
   "cell_type": "code",
   "execution_count": 4,
   "id": "d9c3282a",
   "metadata": {
    "scrolled": false
   },
   "outputs": [
    {
     "data": {
      "text/html": [
       "<div>\n",
       "<style scoped>\n",
       "    .dataframe tbody tr th:only-of-type {\n",
       "        vertical-align: middle;\n",
       "    }\n",
       "\n",
       "    .dataframe tbody tr th {\n",
       "        vertical-align: top;\n",
       "    }\n",
       "\n",
       "    .dataframe thead th {\n",
       "        text-align: right;\n",
       "    }\n",
       "</style>\n",
       "<table border=\"1\" class=\"dataframe\">\n",
       "  <thead>\n",
       "    <tr style=\"text-align: right;\">\n",
       "      <th></th>\n",
       "      <th>Year</th>\n",
       "      <th>Kilometers_Driven</th>\n",
       "      <th>Seats</th>\n",
       "      <th>Price</th>\n",
       "    </tr>\n",
       "  </thead>\n",
       "  <tbody>\n",
       "    <tr>\n",
       "      <th>count</th>\n",
       "      <td>6019.000000</td>\n",
       "      <td>6.019000e+03</td>\n",
       "      <td>5977.000000</td>\n",
       "      <td>6019.000000</td>\n",
       "    </tr>\n",
       "    <tr>\n",
       "      <th>mean</th>\n",
       "      <td>2013.358199</td>\n",
       "      <td>5.873838e+04</td>\n",
       "      <td>5.278735</td>\n",
       "      <td>9.479468</td>\n",
       "    </tr>\n",
       "    <tr>\n",
       "      <th>std</th>\n",
       "      <td>3.269742</td>\n",
       "      <td>9.126884e+04</td>\n",
       "      <td>0.808840</td>\n",
       "      <td>11.187917</td>\n",
       "    </tr>\n",
       "    <tr>\n",
       "      <th>min</th>\n",
       "      <td>1998.000000</td>\n",
       "      <td>1.710000e+02</td>\n",
       "      <td>0.000000</td>\n",
       "      <td>0.440000</td>\n",
       "    </tr>\n",
       "    <tr>\n",
       "      <th>25%</th>\n",
       "      <td>2011.000000</td>\n",
       "      <td>3.400000e+04</td>\n",
       "      <td>5.000000</td>\n",
       "      <td>3.500000</td>\n",
       "    </tr>\n",
       "    <tr>\n",
       "      <th>50%</th>\n",
       "      <td>2014.000000</td>\n",
       "      <td>5.300000e+04</td>\n",
       "      <td>5.000000</td>\n",
       "      <td>5.640000</td>\n",
       "    </tr>\n",
       "    <tr>\n",
       "      <th>75%</th>\n",
       "      <td>2016.000000</td>\n",
       "      <td>7.300000e+04</td>\n",
       "      <td>5.000000</td>\n",
       "      <td>9.950000</td>\n",
       "    </tr>\n",
       "    <tr>\n",
       "      <th>max</th>\n",
       "      <td>2019.000000</td>\n",
       "      <td>6.500000e+06</td>\n",
       "      <td>10.000000</td>\n",
       "      <td>160.000000</td>\n",
       "    </tr>\n",
       "  </tbody>\n",
       "</table>\n",
       "</div>"
      ],
      "text/plain": [
       "              Year  Kilometers_Driven        Seats        Price\n",
       "count  6019.000000       6.019000e+03  5977.000000  6019.000000\n",
       "mean   2013.358199       5.873838e+04     5.278735     9.479468\n",
       "std       3.269742       9.126884e+04     0.808840    11.187917\n",
       "min    1998.000000       1.710000e+02     0.000000     0.440000\n",
       "25%    2011.000000       3.400000e+04     5.000000     3.500000\n",
       "50%    2014.000000       5.300000e+04     5.000000     5.640000\n",
       "75%    2016.000000       7.300000e+04     5.000000     9.950000\n",
       "max    2019.000000       6.500000e+06    10.000000   160.000000"
      ]
     },
     "execution_count": 4,
     "metadata": {},
     "output_type": "execute_result"
    }
   ],
   "source": [
    "df.describe()"
   ]
  },
  {
   "cell_type": "code",
   "execution_count": 5,
   "id": "a274e878",
   "metadata": {},
   "outputs": [
    {
     "data": {
      "text/plain": [
       "0"
      ]
     },
     "execution_count": 5,
     "metadata": {},
     "output_type": "execute_result"
    }
   ],
   "source": [
    "df.duplicated().sum()"
   ]
  },
  {
   "cell_type": "markdown",
   "id": "9712eb61",
   "metadata": {},
   "source": [
    "#### Notes \n",
    "- Numerical values mixed with text in (Mileage, Engine, Power) columns. \n",
    "    - in Milage column we have 2 units (kmpl & km/kg)\n",
    "- Most of New_Price Column is null values (so, we have 2 solution.) \n",
    "    - remove it or scrap some data to fill it. \n",
    "- Null values values in other columns \n",
    "- Seats columns have some values with Zero !! \n",
    "- duplicated rows founded \n",
    "- Power column have values \"null bhp\" "
   ]
  },
  {
   "cell_type": "markdown",
   "id": "830aeaec",
   "metadata": {},
   "source": [
    "###  1.2 Working with data issues "
   ]
  },
  {
   "cell_type": "markdown",
   "id": "04f9b3c1",
   "metadata": {},
   "source": [
    "> Dropping duplicated columns "
   ]
  },
  {
   "cell_type": "code",
   "execution_count": 6,
   "id": "9820e5e9",
   "metadata": {},
   "outputs": [],
   "source": [
    "# Remove duplicated row \n",
    "df.drop_duplicates(inplace=True)"
   ]
  },
  {
   "cell_type": "markdown",
   "id": "166cde13",
   "metadata": {},
   "source": [
    "> Drop \"New_Price\" column because most of them is null \n",
    "- Another solution is to Scrap New price "
   ]
  },
  {
   "cell_type": "code",
   "execution_count": 7,
   "id": "57feb81f",
   "metadata": {},
   "outputs": [],
   "source": [
    "df.drop(\"New_Price\", axis=1, inplace=True)"
   ]
  },
  {
   "cell_type": "markdown",
   "id": "71e86dac",
   "metadata": {},
   "source": [
    "> Imputing Null values "
   ]
  },
  {
   "cell_type": "code",
   "execution_count": 8,
   "id": "be87b075",
   "metadata": {},
   "outputs": [],
   "source": [
    "# My solution \n",
    "from sklearn.impute import SimpleImputer\n",
    "\n",
    "null_col = ['Mileage', 'Engine' , 'Power','Seats']\n",
    "\n",
    "imputer = SimpleImputer(strategy='most_frequent')\n",
    "df[null_col] = imputer.fit_transform(df[null_col])"
   ]
  },
  {
   "cell_type": "markdown",
   "id": "456c8c8a",
   "metadata": {},
   "source": [
    "> Make sure that all data type is correct "
   ]
  },
  {
   "cell_type": "code",
   "execution_count": 9,
   "id": "b0da4efe",
   "metadata": {},
   "outputs": [],
   "source": [
    "df = df.convert_dtypes()"
   ]
  },
  {
   "cell_type": "markdown",
   "id": "0834e5cb",
   "metadata": {},
   "source": [
    "> Impute zeros in seats column "
   ]
  },
  {
   "cell_type": "code",
   "execution_count": 10,
   "id": "229955d3",
   "metadata": {},
   "outputs": [],
   "source": [
    "df['Seats'].replace(to_replace=0 ,value= df['Seats'].mode()[0],inplace=True)"
   ]
  },
  {
   "cell_type": "code",
   "execution_count": 11,
   "id": "0eefd813",
   "metadata": {},
   "outputs": [
    {
     "data": {
      "text/html": [
       "<div>\n",
       "<style scoped>\n",
       "    .dataframe tbody tr th:only-of-type {\n",
       "        vertical-align: middle;\n",
       "    }\n",
       "\n",
       "    .dataframe tbody tr th {\n",
       "        vertical-align: top;\n",
       "    }\n",
       "\n",
       "    .dataframe thead th {\n",
       "        text-align: right;\n",
       "    }\n",
       "</style>\n",
       "<table border=\"1\" class=\"dataframe\">\n",
       "  <thead>\n",
       "    <tr style=\"text-align: right;\">\n",
       "      <th></th>\n",
       "      <th>Name</th>\n",
       "      <th>Location</th>\n",
       "      <th>Year</th>\n",
       "      <th>Kilometers_Driven</th>\n",
       "      <th>Fuel_Type</th>\n",
       "      <th>Transmission</th>\n",
       "      <th>Owner_Type</th>\n",
       "      <th>Mileage</th>\n",
       "      <th>Engine</th>\n",
       "      <th>Power</th>\n",
       "      <th>Seats</th>\n",
       "      <th>Price</th>\n",
       "    </tr>\n",
       "  </thead>\n",
       "  <tbody>\n",
       "    <tr>\n",
       "      <th>76</th>\n",
       "      <td>Ford Fiesta 1.4 SXi TDCi</td>\n",
       "      <td>Jaipur</td>\n",
       "      <td>2008</td>\n",
       "      <td>111111</td>\n",
       "      <td>Diesel</td>\n",
       "      <td>Manual</td>\n",
       "      <td>First</td>\n",
       "      <td>17.8 kmpl</td>\n",
       "      <td>1399 CC</td>\n",
       "      <td>null bhp</td>\n",
       "      <td>5</td>\n",
       "      <td>2.0</td>\n",
       "    </tr>\n",
       "    <tr>\n",
       "      <th>79</th>\n",
       "      <td>Hyundai Santro Xing XL</td>\n",
       "      <td>Hyderabad</td>\n",
       "      <td>2005</td>\n",
       "      <td>87591</td>\n",
       "      <td>Petrol</td>\n",
       "      <td>Manual</td>\n",
       "      <td>First</td>\n",
       "      <td>0.0 kmpl</td>\n",
       "      <td>1086 CC</td>\n",
       "      <td>null bhp</td>\n",
       "      <td>5</td>\n",
       "      <td>1.3</td>\n",
       "    </tr>\n",
       "    <tr>\n",
       "      <th>89</th>\n",
       "      <td>Hyundai Santro Xing XO</td>\n",
       "      <td>Hyderabad</td>\n",
       "      <td>2007</td>\n",
       "      <td>73745</td>\n",
       "      <td>Petrol</td>\n",
       "      <td>Manual</td>\n",
       "      <td>First</td>\n",
       "      <td>17.0 kmpl</td>\n",
       "      <td>1086 CC</td>\n",
       "      <td>null bhp</td>\n",
       "      <td>5</td>\n",
       "      <td>2.1</td>\n",
       "    </tr>\n",
       "    <tr>\n",
       "      <th>120</th>\n",
       "      <td>Hyundai Santro Xing XL eRLX Euro III</td>\n",
       "      <td>Mumbai</td>\n",
       "      <td>2005</td>\n",
       "      <td>102000</td>\n",
       "      <td>Petrol</td>\n",
       "      <td>Manual</td>\n",
       "      <td>Second</td>\n",
       "      <td>17.0 kmpl</td>\n",
       "      <td>1086 CC</td>\n",
       "      <td>null bhp</td>\n",
       "      <td>5</td>\n",
       "      <td>0.85</td>\n",
       "    </tr>\n",
       "    <tr>\n",
       "      <th>143</th>\n",
       "      <td>Hyundai Santro Xing XO eRLX Euro II</td>\n",
       "      <td>Kochi</td>\n",
       "      <td>2008</td>\n",
       "      <td>80759</td>\n",
       "      <td>Petrol</td>\n",
       "      <td>Manual</td>\n",
       "      <td>Third</td>\n",
       "      <td>17.0 kmpl</td>\n",
       "      <td>1086 CC</td>\n",
       "      <td>null bhp</td>\n",
       "      <td>5</td>\n",
       "      <td>1.67</td>\n",
       "    </tr>\n",
       "    <tr>\n",
       "      <th>...</th>\n",
       "      <td>...</td>\n",
       "      <td>...</td>\n",
       "      <td>...</td>\n",
       "      <td>...</td>\n",
       "      <td>...</td>\n",
       "      <td>...</td>\n",
       "      <td>...</td>\n",
       "      <td>...</td>\n",
       "      <td>...</td>\n",
       "      <td>...</td>\n",
       "      <td>...</td>\n",
       "      <td>...</td>\n",
       "    </tr>\n",
       "    <tr>\n",
       "      <th>5873</th>\n",
       "      <td>Hyundai Santro Xing XO eRLX Euro II</td>\n",
       "      <td>Pune</td>\n",
       "      <td>2006</td>\n",
       "      <td>47200</td>\n",
       "      <td>Petrol</td>\n",
       "      <td>Manual</td>\n",
       "      <td>Second</td>\n",
       "      <td>17.0 kmpl</td>\n",
       "      <td>1086 CC</td>\n",
       "      <td>null bhp</td>\n",
       "      <td>5</td>\n",
       "      <td>1.2</td>\n",
       "    </tr>\n",
       "    <tr>\n",
       "      <th>5893</th>\n",
       "      <td>Maruti Estilo LXI</td>\n",
       "      <td>Chennai</td>\n",
       "      <td>2008</td>\n",
       "      <td>51000</td>\n",
       "      <td>Petrol</td>\n",
       "      <td>Manual</td>\n",
       "      <td>Second</td>\n",
       "      <td>19.5 kmpl</td>\n",
       "      <td>1061 CC</td>\n",
       "      <td>null bhp</td>\n",
       "      <td>5</td>\n",
       "      <td>1.75</td>\n",
       "    </tr>\n",
       "    <tr>\n",
       "      <th>5925</th>\n",
       "      <td>Skoda Laura Classic 1.8 TSI</td>\n",
       "      <td>Pune</td>\n",
       "      <td>2010</td>\n",
       "      <td>85000</td>\n",
       "      <td>Petrol</td>\n",
       "      <td>Manual</td>\n",
       "      <td>First</td>\n",
       "      <td>17.5 kmpl</td>\n",
       "      <td>1798 CC</td>\n",
       "      <td>null bhp</td>\n",
       "      <td>5</td>\n",
       "      <td>2.85</td>\n",
       "    </tr>\n",
       "    <tr>\n",
       "      <th>5943</th>\n",
       "      <td>Mahindra Jeep MM 540 DP</td>\n",
       "      <td>Chennai</td>\n",
       "      <td>2002</td>\n",
       "      <td>75000</td>\n",
       "      <td>Diesel</td>\n",
       "      <td>Manual</td>\n",
       "      <td>First</td>\n",
       "      <td>0.0 kmpl</td>\n",
       "      <td>2112 CC</td>\n",
       "      <td>null bhp</td>\n",
       "      <td>6</td>\n",
       "      <td>1.7</td>\n",
       "    </tr>\n",
       "    <tr>\n",
       "      <th>5985</th>\n",
       "      <td>Toyota Etios GD</td>\n",
       "      <td>Delhi</td>\n",
       "      <td>2013</td>\n",
       "      <td>70000</td>\n",
       "      <td>Diesel</td>\n",
       "      <td>Manual</td>\n",
       "      <td>First</td>\n",
       "      <td>23.59 kmpl</td>\n",
       "      <td>1364 CC</td>\n",
       "      <td>null bhp</td>\n",
       "      <td>5</td>\n",
       "      <td>3.88</td>\n",
       "    </tr>\n",
       "  </tbody>\n",
       "</table>\n",
       "<p>107 rows × 12 columns</p>\n",
       "</div>"
      ],
      "text/plain": [
       "                                      Name   Location  Year  \\\n",
       "76                Ford Fiesta 1.4 SXi TDCi     Jaipur  2008   \n",
       "79                  Hyundai Santro Xing XL  Hyderabad  2005   \n",
       "89                  Hyundai Santro Xing XO  Hyderabad  2007   \n",
       "120   Hyundai Santro Xing XL eRLX Euro III     Mumbai  2005   \n",
       "143    Hyundai Santro Xing XO eRLX Euro II      Kochi  2008   \n",
       "...                                    ...        ...   ...   \n",
       "5873   Hyundai Santro Xing XO eRLX Euro II       Pune  2006   \n",
       "5893                     Maruti Estilo LXI    Chennai  2008   \n",
       "5925           Skoda Laura Classic 1.8 TSI       Pune  2010   \n",
       "5943               Mahindra Jeep MM 540 DP    Chennai  2002   \n",
       "5985                       Toyota Etios GD      Delhi  2013   \n",
       "\n",
       "      Kilometers_Driven Fuel_Type Transmission Owner_Type     Mileage  \\\n",
       "76               111111    Diesel       Manual      First   17.8 kmpl   \n",
       "79                87591    Petrol       Manual      First    0.0 kmpl   \n",
       "89                73745    Petrol       Manual      First   17.0 kmpl   \n",
       "120              102000    Petrol       Manual     Second   17.0 kmpl   \n",
       "143               80759    Petrol       Manual      Third   17.0 kmpl   \n",
       "...                 ...       ...          ...        ...         ...   \n",
       "5873              47200    Petrol       Manual     Second   17.0 kmpl   \n",
       "5893              51000    Petrol       Manual     Second   19.5 kmpl   \n",
       "5925              85000    Petrol       Manual      First   17.5 kmpl   \n",
       "5943              75000    Diesel       Manual      First    0.0 kmpl   \n",
       "5985              70000    Diesel       Manual      First  23.59 kmpl   \n",
       "\n",
       "       Engine     Power  Seats  Price  \n",
       "76    1399 CC  null bhp      5    2.0  \n",
       "79    1086 CC  null bhp      5    1.3  \n",
       "89    1086 CC  null bhp      5    2.1  \n",
       "120   1086 CC  null bhp      5   0.85  \n",
       "143   1086 CC  null bhp      5   1.67  \n",
       "...       ...       ...    ...    ...  \n",
       "5873  1086 CC  null bhp      5    1.2  \n",
       "5893  1061 CC  null bhp      5   1.75  \n",
       "5925  1798 CC  null bhp      5   2.85  \n",
       "5943  2112 CC  null bhp      6    1.7  \n",
       "5985  1364 CC  null bhp      5   3.88  \n",
       "\n",
       "[107 rows x 12 columns]"
      ]
     },
     "execution_count": 11,
     "metadata": {},
     "output_type": "execute_result"
    }
   ],
   "source": [
    "df[df['Power'] == 'null bhp']"
   ]
  },
  {
   "cell_type": "code",
   "execution_count": 12,
   "id": "62761d9e",
   "metadata": {},
   "outputs": [],
   "source": [
    "indx = df[df['Power'] == 'null bhp'].index"
   ]
  },
  {
   "cell_type": "code",
   "execution_count": 13,
   "id": "ce335b4a",
   "metadata": {},
   "outputs": [],
   "source": [
    "df.drop(indx,axis=0,inplace=True)"
   ]
  },
  {
   "cell_type": "markdown",
   "id": "990d8647",
   "metadata": {},
   "source": [
    "- (KMPL) is refered to Kilometers Per Litre\n",
    "- (km/kg) is refered to kilometers Per kilogram\n",
    "> 1 liter  = 1 kilogram \n",
    "- Reference : https://en.wikipedia.org/wiki/Litre"
   ]
  },
  {
   "cell_type": "code",
   "execution_count": 14,
   "id": "32db913b",
   "metadata": {},
   "outputs": [],
   "source": [
    "dirty_cols = ['Mileage', 'Engine', 'Power']"
   ]
  },
  {
   "cell_type": "code",
   "execution_count": 15,
   "id": "e89a5306",
   "metadata": {},
   "outputs": [],
   "source": [
    "for col in dirty_cols:\n",
    "    df[col] = df[col].apply(lambda x : float(x.split()[0]))"
   ]
  },
  {
   "cell_type": "markdown",
   "id": "2b92bf9a",
   "metadata": {},
   "source": [
    "#### values health checking "
   ]
  },
  {
   "cell_type": "code",
   "execution_count": 16,
   "id": "5a1d70ae",
   "metadata": {},
   "outputs": [
    {
     "data": {
      "text/html": [
       "<div>\n",
       "<style scoped>\n",
       "    .dataframe tbody tr th:only-of-type {\n",
       "        vertical-align: middle;\n",
       "    }\n",
       "\n",
       "    .dataframe tbody tr th {\n",
       "        vertical-align: top;\n",
       "    }\n",
       "\n",
       "    .dataframe thead th {\n",
       "        text-align: right;\n",
       "    }\n",
       "</style>\n",
       "<table border=\"1\" class=\"dataframe\">\n",
       "  <thead>\n",
       "    <tr style=\"text-align: right;\">\n",
       "      <th></th>\n",
       "      <th>Name</th>\n",
       "      <th>Location</th>\n",
       "      <th>Year</th>\n",
       "      <th>Kilometers_Driven</th>\n",
       "      <th>Fuel_Type</th>\n",
       "      <th>Transmission</th>\n",
       "      <th>Owner_Type</th>\n",
       "      <th>Mileage</th>\n",
       "      <th>Engine</th>\n",
       "      <th>Power</th>\n",
       "      <th>Seats</th>\n",
       "      <th>Price</th>\n",
       "    </tr>\n",
       "  </thead>\n",
       "  <tbody>\n",
       "    <tr>\n",
       "      <th>3933</th>\n",
       "      <td>Volvo XC60 D5</td>\n",
       "      <td>Hyderabad</td>\n",
       "      <td>2015</td>\n",
       "      <td>100000</td>\n",
       "      <td>Diesel</td>\n",
       "      <td>Automatic</td>\n",
       "      <td>First</td>\n",
       "      <td>13.5</td>\n",
       "      <td>2400.0</td>\n",
       "      <td>215.00</td>\n",
       "      <td>5</td>\n",
       "      <td>32.5</td>\n",
       "    </tr>\n",
       "    <tr>\n",
       "      <th>5655</th>\n",
       "      <td>Maruti Wagon R LXI CNG</td>\n",
       "      <td>Mumbai</td>\n",
       "      <td>2015</td>\n",
       "      <td>22001</td>\n",
       "      <td>CNG</td>\n",
       "      <td>Manual</td>\n",
       "      <td>First</td>\n",
       "      <td>26.6</td>\n",
       "      <td>998.0</td>\n",
       "      <td>58.16</td>\n",
       "      <td>5</td>\n",
       "      <td>3.65</td>\n",
       "    </tr>\n",
       "    <tr>\n",
       "      <th>4888</th>\n",
       "      <td>Honda Amaze S i-Dtech</td>\n",
       "      <td>Kochi</td>\n",
       "      <td>2016</td>\n",
       "      <td>47471</td>\n",
       "      <td>Diesel</td>\n",
       "      <td>Manual</td>\n",
       "      <td>First</td>\n",
       "      <td>25.8</td>\n",
       "      <td>1498.0</td>\n",
       "      <td>98.60</td>\n",
       "      <td>5</td>\n",
       "      <td>5.25</td>\n",
       "    </tr>\n",
       "    <tr>\n",
       "      <th>119</th>\n",
       "      <td>Maruti Vitara Brezza VDi</td>\n",
       "      <td>Mumbai</td>\n",
       "      <td>2016</td>\n",
       "      <td>55000</td>\n",
       "      <td>Diesel</td>\n",
       "      <td>Manual</td>\n",
       "      <td>First</td>\n",
       "      <td>24.3</td>\n",
       "      <td>1248.0</td>\n",
       "      <td>88.50</td>\n",
       "      <td>5</td>\n",
       "      <td>7.5</td>\n",
       "    </tr>\n",
       "    <tr>\n",
       "      <th>1493</th>\n",
       "      <td>Mahindra XUV500 W8 2WD</td>\n",
       "      <td>Delhi</td>\n",
       "      <td>2012</td>\n",
       "      <td>75000</td>\n",
       "      <td>Diesel</td>\n",
       "      <td>Manual</td>\n",
       "      <td>Second</td>\n",
       "      <td>15.1</td>\n",
       "      <td>2179.0</td>\n",
       "      <td>140.00</td>\n",
       "      <td>7</td>\n",
       "      <td>6.25</td>\n",
       "    </tr>\n",
       "  </tbody>\n",
       "</table>\n",
       "</div>"
      ],
      "text/plain": [
       "                          Name   Location  Year  Kilometers_Driven Fuel_Type  \\\n",
       "3933             Volvo XC60 D5  Hyderabad  2015             100000    Diesel   \n",
       "5655    Maruti Wagon R LXI CNG     Mumbai  2015              22001       CNG   \n",
       "4888     Honda Amaze S i-Dtech      Kochi  2016              47471    Diesel   \n",
       "119   Maruti Vitara Brezza VDi     Mumbai  2016              55000    Diesel   \n",
       "1493    Mahindra XUV500 W8 2WD      Delhi  2012              75000    Diesel   \n",
       "\n",
       "     Transmission Owner_Type  Mileage  Engine   Power  Seats  Price  \n",
       "3933    Automatic      First     13.5  2400.0  215.00      5   32.5  \n",
       "5655       Manual      First     26.6   998.0   58.16      5   3.65  \n",
       "4888       Manual      First     25.8  1498.0   98.60      5   5.25  \n",
       "119        Manual      First     24.3  1248.0   88.50      5    7.5  \n",
       "1493       Manual     Second     15.1  2179.0  140.00      7   6.25  "
      ]
     },
     "execution_count": 16,
     "metadata": {},
     "output_type": "execute_result"
    }
   ],
   "source": [
    "df.sample(5)"
   ]
  },
  {
   "cell_type": "code",
   "execution_count": 17,
   "id": "e820a5e3",
   "metadata": {},
   "outputs": [
    {
     "name": "stdout",
     "output_type": "stream",
     "text": [
      "<class 'pandas.core.frame.DataFrame'>\n",
      "Int64Index: 5912 entries, 0 to 6018\n",
      "Data columns (total 12 columns):\n",
      " #   Column             Non-Null Count  Dtype  \n",
      "---  ------             --------------  -----  \n",
      " 0   Name               5912 non-null   string \n",
      " 1   Location           5912 non-null   string \n",
      " 2   Year               5912 non-null   Int64  \n",
      " 3   Kilometers_Driven  5912 non-null   Int64  \n",
      " 4   Fuel_Type          5912 non-null   string \n",
      " 5   Transmission       5912 non-null   string \n",
      " 6   Owner_Type         5912 non-null   string \n",
      " 7   Mileage            5912 non-null   float64\n",
      " 8   Engine             5912 non-null   float64\n",
      " 9   Power              5912 non-null   float64\n",
      " 10  Seats              5912 non-null   Int64  \n",
      " 11  Price              5912 non-null   Float64\n",
      "dtypes: Float64(1), Int64(3), float64(3), string(5)\n",
      "memory usage: 623.5 KB\n"
     ]
    }
   ],
   "source": [
    "df.info()"
   ]
  },
  {
   "cell_type": "markdown",
   "id": "17cf3106",
   "metadata": {},
   "source": [
    "___________________________________"
   ]
  },
  {
   "cell_type": "markdown",
   "id": "9747fb98",
   "metadata": {},
   "source": [
    "# 2. Feature Engineering"
   ]
  },
  {
   "cell_type": "code",
   "execution_count": 18,
   "id": "e72feae8",
   "metadata": {},
   "outputs": [
    {
     "data": {
      "text/plain": [
       "1830"
      ]
     },
     "execution_count": 18,
     "metadata": {},
     "output_type": "execute_result"
    }
   ],
   "source": [
    "# Check Name column uniques \n",
    "df[\"Name\"].nunique()"
   ]
  },
  {
   "cell_type": "code",
   "execution_count": 19,
   "id": "fc3a8c83",
   "metadata": {},
   "outputs": [
    {
     "name": "stdout",
     "output_type": "stream",
     "text": [
      "Percentage of uniques 31 %\n"
     ]
    }
   ],
   "source": [
    "print(\"Percentage of uniques\",round(df[\"Name\"].nunique()/df.shape[0]*100),\"%\")"
   ]
  },
  {
   "cell_type": "markdown",
   "id": "2dac0238",
   "metadata": {},
   "source": [
    ">  \"Name\" feature has no affect that's because it has so many unique values \n",
    "- So let's make it useful and impactful "
   ]
  },
  {
   "cell_type": "code",
   "execution_count": 20,
   "id": "82a8c777",
   "metadata": {},
   "outputs": [
    {
     "data": {
      "text/plain": [
       "0                 Maruti Wagon R LXI CNG\n",
       "1       Hyundai Creta 1.6 CRDi SX Option\n",
       "2                           Honda Jazz V\n",
       "3                      Maruti Ertiga VDI\n",
       "4        Audi A4 New 2.0 TDI Multitronic\n",
       "                      ...               \n",
       "6014                    Maruti Swift VDI\n",
       "6015            Hyundai Xcent 1.1 CRDi S\n",
       "6016               Mahindra Xylo D4 BSIV\n",
       "6017                  Maruti Wagon R VXI\n",
       "6018               Chevrolet Beat Diesel\n",
       "Name: Name, Length: 5912, dtype: string"
      ]
     },
     "execution_count": 20,
     "metadata": {},
     "output_type": "execute_result"
    }
   ],
   "source": [
    "df[\"Name\"]"
   ]
  },
  {
   "cell_type": "markdown",
   "id": "01a1c4e8",
   "metadata": {},
   "source": [
    "> We can notice that the first word of the name is (Brand), so let's get it "
   ]
  },
  {
   "cell_type": "code",
   "execution_count": 21,
   "id": "f1842d86",
   "metadata": {},
   "outputs": [],
   "source": [
    "df[\"Brand\"] = df[\"Name\"].apply(lambda x : x.split()[0])"
   ]
  },
  {
   "cell_type": "code",
   "execution_count": 22,
   "id": "624eeaa7",
   "metadata": {},
   "outputs": [
    {
     "data": {
      "text/plain": [
       "30"
      ]
     },
     "execution_count": 22,
     "metadata": {},
     "output_type": "execute_result"
    }
   ],
   "source": [
    "df[\"Brand\"].nunique()"
   ]
  },
  {
   "cell_type": "markdown",
   "id": "11b0c18b",
   "metadata": {},
   "source": [
    "- A huge difference here, From this columns we can make a big affect. "
   ]
  },
  {
   "cell_type": "markdown",
   "id": "ac38cfa9",
   "metadata": {},
   "source": [
    "> Another observation that first two word can express wich car we want. \n",
    "- So, let's change name column with just first 2 words. "
   ]
  },
  {
   "cell_type": "code",
   "execution_count": 23,
   "id": "313e74dc",
   "metadata": {},
   "outputs": [],
   "source": [
    "df[\"Name\"] = df[\"Name\"].apply(lambda x : \" \".join(x.split()[:2]))"
   ]
  },
  {
   "cell_type": "code",
   "execution_count": 24,
   "id": "5ade2072",
   "metadata": {},
   "outputs": [
    {
     "data": {
      "text/plain": [
       "209"
      ]
     },
     "execution_count": 24,
     "metadata": {},
     "output_type": "execute_result"
    }
   ],
   "source": [
    "df[\"Name\"].nunique()"
   ]
  },
  {
   "cell_type": "markdown",
   "id": "f34a15fd",
   "metadata": {},
   "source": [
    "- That's great, Now we can make an affect with name column. "
   ]
  },
  {
   "cell_type": "code",
   "execution_count": 25,
   "id": "98743a63",
   "metadata": {},
   "outputs": [],
   "source": [
    "df = df.convert_dtypes()"
   ]
  },
  {
   "cell_type": "markdown",
   "id": "866595bd",
   "metadata": {},
   "source": [
    "________________________"
   ]
  },
  {
   "cell_type": "code",
   "execution_count": 26,
   "id": "7c49fcb1",
   "metadata": {},
   "outputs": [
    {
     "data": {
      "text/html": [
       "<div>\n",
       "<style scoped>\n",
       "    .dataframe tbody tr th:only-of-type {\n",
       "        vertical-align: middle;\n",
       "    }\n",
       "\n",
       "    .dataframe tbody tr th {\n",
       "        vertical-align: top;\n",
       "    }\n",
       "\n",
       "    .dataframe thead th {\n",
       "        text-align: right;\n",
       "    }\n",
       "</style>\n",
       "<table border=\"1\" class=\"dataframe\">\n",
       "  <thead>\n",
       "    <tr style=\"text-align: right;\">\n",
       "      <th></th>\n",
       "      <th>Name</th>\n",
       "      <th>Location</th>\n",
       "      <th>Year</th>\n",
       "      <th>Kilometers_Driven</th>\n",
       "      <th>Fuel_Type</th>\n",
       "      <th>Transmission</th>\n",
       "      <th>Owner_Type</th>\n",
       "      <th>Mileage</th>\n",
       "      <th>Engine</th>\n",
       "      <th>Power</th>\n",
       "      <th>Seats</th>\n",
       "      <th>Price</th>\n",
       "      <th>Brand</th>\n",
       "    </tr>\n",
       "  </thead>\n",
       "  <tbody>\n",
       "    <tr>\n",
       "      <th>567</th>\n",
       "      <td>Maruti Swift</td>\n",
       "      <td>Coimbatore</td>\n",
       "      <td>2016</td>\n",
       "      <td>38461</td>\n",
       "      <td>Diesel</td>\n",
       "      <td>Manual</td>\n",
       "      <td>First</td>\n",
       "      <td>26.59</td>\n",
       "      <td>1248</td>\n",
       "      <td>74.0</td>\n",
       "      <td>5</td>\n",
       "      <td>7.39</td>\n",
       "      <td>Maruti</td>\n",
       "    </tr>\n",
       "    <tr>\n",
       "      <th>3989</th>\n",
       "      <td>Ford Figo</td>\n",
       "      <td>Chennai</td>\n",
       "      <td>2016</td>\n",
       "      <td>70000</td>\n",
       "      <td>Diesel</td>\n",
       "      <td>Manual</td>\n",
       "      <td>First</td>\n",
       "      <td>25.83</td>\n",
       "      <td>1498</td>\n",
       "      <td>99.0</td>\n",
       "      <td>5</td>\n",
       "      <td>4.6</td>\n",
       "      <td>Ford</td>\n",
       "    </tr>\n",
       "    <tr>\n",
       "      <th>718</th>\n",
       "      <td>Mini Cooper</td>\n",
       "      <td>Pune</td>\n",
       "      <td>2012</td>\n",
       "      <td>37000</td>\n",
       "      <td>Petrol</td>\n",
       "      <td>Automatic</td>\n",
       "      <td>Second</td>\n",
       "      <td>13.6</td>\n",
       "      <td>1598</td>\n",
       "      <td>181.0</td>\n",
       "      <td>4</td>\n",
       "      <td>17.0</td>\n",
       "      <td>Mini</td>\n",
       "    </tr>\n",
       "    <tr>\n",
       "      <th>3694</th>\n",
       "      <td>Honda Amaze</td>\n",
       "      <td>Hyderabad</td>\n",
       "      <td>2014</td>\n",
       "      <td>74885</td>\n",
       "      <td>Diesel</td>\n",
       "      <td>Manual</td>\n",
       "      <td>First</td>\n",
       "      <td>25.8</td>\n",
       "      <td>1498</td>\n",
       "      <td>98.6</td>\n",
       "      <td>5</td>\n",
       "      <td>5.4</td>\n",
       "      <td>Honda</td>\n",
       "    </tr>\n",
       "    <tr>\n",
       "      <th>5800</th>\n",
       "      <td>Toyota Innova</td>\n",
       "      <td>Hyderabad</td>\n",
       "      <td>2012</td>\n",
       "      <td>210000</td>\n",
       "      <td>Diesel</td>\n",
       "      <td>Manual</td>\n",
       "      <td>First</td>\n",
       "      <td>12.99</td>\n",
       "      <td>2494</td>\n",
       "      <td>100.0</td>\n",
       "      <td>7</td>\n",
       "      <td>9.0</td>\n",
       "      <td>Toyota</td>\n",
       "    </tr>\n",
       "  </tbody>\n",
       "</table>\n",
       "</div>"
      ],
      "text/plain": [
       "               Name    Location  Year  Kilometers_Driven Fuel_Type  \\\n",
       "567    Maruti Swift  Coimbatore  2016              38461    Diesel   \n",
       "3989      Ford Figo     Chennai  2016              70000    Diesel   \n",
       "718     Mini Cooper        Pune  2012              37000    Petrol   \n",
       "3694    Honda Amaze   Hyderabad  2014              74885    Diesel   \n",
       "5800  Toyota Innova   Hyderabad  2012             210000    Diesel   \n",
       "\n",
       "     Transmission Owner_Type  Mileage  Engine  Power  Seats  Price   Brand  \n",
       "567        Manual      First    26.59    1248   74.0      5   7.39  Maruti  \n",
       "3989       Manual      First    25.83    1498   99.0      5    4.6    Ford  \n",
       "718     Automatic     Second     13.6    1598  181.0      4   17.0    Mini  \n",
       "3694       Manual      First     25.8    1498   98.6      5    5.4   Honda  \n",
       "5800       Manual      First    12.99    2494  100.0      7    9.0  Toyota  "
      ]
     },
     "execution_count": 26,
     "metadata": {},
     "output_type": "execute_result"
    }
   ],
   "source": [
    "df.sample(5)"
   ]
  },
  {
   "cell_type": "code",
   "execution_count": 27,
   "id": "995ab2b8",
   "metadata": {},
   "outputs": [
    {
     "name": "stdout",
     "output_type": "stream",
     "text": [
      "<class 'pandas.core.frame.DataFrame'>\n",
      "Int64Index: 5912 entries, 0 to 6018\n",
      "Data columns (total 13 columns):\n",
      " #   Column             Non-Null Count  Dtype  \n",
      "---  ------             --------------  -----  \n",
      " 0   Name               5912 non-null   string \n",
      " 1   Location           5912 non-null   string \n",
      " 2   Year               5912 non-null   Int64  \n",
      " 3   Kilometers_Driven  5912 non-null   Int64  \n",
      " 4   Fuel_Type          5912 non-null   string \n",
      " 5   Transmission       5912 non-null   string \n",
      " 6   Owner_Type         5912 non-null   string \n",
      " 7   Mileage            5912 non-null   Float64\n",
      " 8   Engine             5912 non-null   Int64  \n",
      " 9   Power              5912 non-null   Float64\n",
      " 10  Seats              5912 non-null   Int64  \n",
      " 11  Price              5912 non-null   Float64\n",
      " 12  Brand              5912 non-null   string \n",
      "dtypes: Float64(3), Int64(4), string(6)\n",
      "memory usage: 687.0 KB\n"
     ]
    }
   ],
   "source": [
    "df.info()"
   ]
  },
  {
   "cell_type": "code",
   "execution_count": 28,
   "id": "6d666058",
   "metadata": {},
   "outputs": [
    {
     "data": {
      "text/html": [
       "<div>\n",
       "<style scoped>\n",
       "    .dataframe tbody tr th:only-of-type {\n",
       "        vertical-align: middle;\n",
       "    }\n",
       "\n",
       "    .dataframe tbody tr th {\n",
       "        vertical-align: top;\n",
       "    }\n",
       "\n",
       "    .dataframe thead th {\n",
       "        text-align: right;\n",
       "    }\n",
       "</style>\n",
       "<table border=\"1\" class=\"dataframe\">\n",
       "  <thead>\n",
       "    <tr style=\"text-align: right;\">\n",
       "      <th></th>\n",
       "      <th>Year</th>\n",
       "      <th>Kilometers_Driven</th>\n",
       "      <th>Mileage</th>\n",
       "      <th>Engine</th>\n",
       "      <th>Power</th>\n",
       "      <th>Seats</th>\n",
       "      <th>Price</th>\n",
       "    </tr>\n",
       "  </thead>\n",
       "  <tbody>\n",
       "    <tr>\n",
       "      <th>count</th>\n",
       "      <td>5912.000000</td>\n",
       "      <td>5.912000e+03</td>\n",
       "      <td>5912.000000</td>\n",
       "      <td>5912.000000</td>\n",
       "      <td>5912.000000</td>\n",
       "      <td>5912.00000</td>\n",
       "      <td>5912.000000</td>\n",
       "    </tr>\n",
       "    <tr>\n",
       "      <th>mean</th>\n",
       "      <td>2013.450609</td>\n",
       "      <td>5.837766e+04</td>\n",
       "      <td>18.231778</td>\n",
       "      <td>1622.857070</td>\n",
       "      <td>113.014026</td>\n",
       "      <td>5.28180</td>\n",
       "      <td>9.584919</td>\n",
       "    </tr>\n",
       "    <tr>\n",
       "      <th>std</th>\n",
       "      <td>3.188638</td>\n",
       "      <td>9.189848e+04</td>\n",
       "      <td>4.431628</td>\n",
       "      <td>600.877459</td>\n",
       "      <td>53.797403</td>\n",
       "      <td>0.80269</td>\n",
       "      <td>11.233694</td>\n",
       "    </tr>\n",
       "    <tr>\n",
       "      <th>min</th>\n",
       "      <td>1998.000000</td>\n",
       "      <td>1.710000e+02</td>\n",
       "      <td>0.000000</td>\n",
       "      <td>72.000000</td>\n",
       "      <td>34.200000</td>\n",
       "      <td>2.00000</td>\n",
       "      <td>0.440000</td>\n",
       "    </tr>\n",
       "    <tr>\n",
       "      <th>25%</th>\n",
       "      <td>2012.000000</td>\n",
       "      <td>3.351275e+04</td>\n",
       "      <td>15.260000</td>\n",
       "      <td>1198.000000</td>\n",
       "      <td>75.000000</td>\n",
       "      <td>5.00000</td>\n",
       "      <td>3.500000</td>\n",
       "    </tr>\n",
       "    <tr>\n",
       "      <th>50%</th>\n",
       "      <td>2014.000000</td>\n",
       "      <td>5.286250e+04</td>\n",
       "      <td>18.200000</td>\n",
       "      <td>1493.000000</td>\n",
       "      <td>94.000000</td>\n",
       "      <td>5.00000</td>\n",
       "      <td>5.700000</td>\n",
       "    </tr>\n",
       "    <tr>\n",
       "      <th>75%</th>\n",
       "      <td>2016.000000</td>\n",
       "      <td>7.245375e+04</td>\n",
       "      <td>21.100000</td>\n",
       "      <td>1984.000000</td>\n",
       "      <td>138.100000</td>\n",
       "      <td>5.00000</td>\n",
       "      <td>10.012500</td>\n",
       "    </tr>\n",
       "    <tr>\n",
       "      <th>max</th>\n",
       "      <td>2019.000000</td>\n",
       "      <td>6.500000e+06</td>\n",
       "      <td>33.540000</td>\n",
       "      <td>5998.000000</td>\n",
       "      <td>560.000000</td>\n",
       "      <td>10.00000</td>\n",
       "      <td>160.000000</td>\n",
       "    </tr>\n",
       "  </tbody>\n",
       "</table>\n",
       "</div>"
      ],
      "text/plain": [
       "              Year  Kilometers_Driven      Mileage       Engine        Power  \\\n",
       "count  5912.000000       5.912000e+03  5912.000000  5912.000000  5912.000000   \n",
       "mean   2013.450609       5.837766e+04    18.231778  1622.857070   113.014026   \n",
       "std       3.188638       9.189848e+04     4.431628   600.877459    53.797403   \n",
       "min    1998.000000       1.710000e+02     0.000000    72.000000    34.200000   \n",
       "25%    2012.000000       3.351275e+04    15.260000  1198.000000    75.000000   \n",
       "50%    2014.000000       5.286250e+04    18.200000  1493.000000    94.000000   \n",
       "75%    2016.000000       7.245375e+04    21.100000  1984.000000   138.100000   \n",
       "max    2019.000000       6.500000e+06    33.540000  5998.000000   560.000000   \n",
       "\n",
       "            Seats        Price  \n",
       "count  5912.00000  5912.000000  \n",
       "mean      5.28180     9.584919  \n",
       "std       0.80269    11.233694  \n",
       "min       2.00000     0.440000  \n",
       "25%       5.00000     3.500000  \n",
       "50%       5.00000     5.700000  \n",
       "75%       5.00000    10.012500  \n",
       "max      10.00000   160.000000  "
      ]
     },
     "execution_count": 28,
     "metadata": {},
     "output_type": "execute_result"
    }
   ],
   "source": [
    "df.describe()"
   ]
  },
  {
   "cell_type": "markdown",
   "id": "00764606",
   "metadata": {},
   "source": [
    "________________________"
   ]
  },
  {
   "cell_type": "code",
   "execution_count": 29,
   "id": "ed717760",
   "metadata": {},
   "outputs": [],
   "source": [
    "df.to_csv(\"Cleaned_Data.csv\")"
   ]
  },
  {
   "cell_type": "markdown",
   "id": "8ba07123",
   "metadata": {},
   "source": [
    "# 3. Data understanding "
   ]
  },
  {
   "cell_type": "markdown",
   "id": "b30029b6",
   "metadata": {},
   "source": [
    "### 3.1 Univariate analysis "
   ]
  },
  {
   "cell_type": "code",
   "execution_count": 30,
   "id": "be370a5b",
   "metadata": {},
   "outputs": [
    {
     "data": {
      "image/png": "[encoded data removed]",
      "text/plain": [
       "<Figure size 504x1008 with 1 Axes>"
      ]
     },
     "metadata": {},
     "output_type": "display_data"
    }
   ],
   "source": [
    "sns.histplot(data = df , x = 'Kilometers_Driven');"
   ]
  },
  {
   "cell_type": "code",
   "execution_count": 31,
   "id": "0017c357",
   "metadata": {},
   "outputs": [
    {
     "data": {
      "image/png": "[encoded data removed]",
      "text/plain": [
       "<Figure size 504x1008 with 1 Axes>"
      ]
     },
     "metadata": {},
     "output_type": "display_data"
    }
   ],
   "source": [
    "sns.histplot(data = df , x = 'Mileage');"
   ]
  },
  {
   "cell_type": "code",
   "execution_count": 32,
   "id": "3e8482fa",
   "metadata": {},
   "outputs": [
    {
     "data": {
      "image/png": "[encoded data removed]",
      "text/plain": [
       "<Figure size 504x1008 with 1 Axes>"
      ]
     },
     "metadata": {},
     "output_type": "display_data"
    }
   ],
   "source": [
    "sns.histplot(data = df , x = 'Engine');"
   ]
  },
  {
   "cell_type": "code",
   "execution_count": 33,
   "id": "b4b6a93a",
   "metadata": {},
   "outputs": [
    {
     "data": {
      "image/png": "[encoded data removed]",
      "text/plain": [
       "<Figure size 504x1008 with 1 Axes>"
      ]
     },
     "metadata": {},
     "output_type": "display_data"
    }
   ],
   "source": [
    "sns.histplot(data = df , x = 'Power');"
   ]
  },
  {
   "cell_type": "code",
   "execution_count": 34,
   "id": "acb2966e",
   "metadata": {},
   "outputs": [
    {
     "data": {
      "image/png": "[encoded data removed]",
      "text/plain": [
       "<Figure size 504x1008 with 1 Axes>"
      ]
     },
     "metadata": {},
     "output_type": "display_data"
    }
   ],
   "source": [
    "sns.histplot(data = df , x = 'Price');"
   ]
  },
  {
   "cell_type": "code",
   "execution_count": 35,
   "id": "b04eac86",
   "metadata": {},
   "outputs": [],
   "source": [
    "numerical_cols = ['Kilometers_Driven' , 'Mileage' , 'Engine' , 'Power','Price']"
   ]
  },
  {
   "cell_type": "code",
   "execution_count": 36,
   "id": "e9564f31",
   "metadata": {},
   "outputs": [],
   "source": [
    "df_nums = df.copy()\n",
    "from datasist.structdata import detect_outliers \n",
    "\n",
    "outliears = detect_outliers(df_nums[numerical_cols],0,df_nums[numerical_cols].columns)\n",
    "df_nums.drop(outliears,inplace=True)\n",
    "\n",
    "# outliears = detect_outliers(df[['Price']],0,df[['Price']].columns)\n",
    "# df[['Price']].drop(outliears,inplace=True)"
   ]
  },
  {
   "cell_type": "code",
   "execution_count": 37,
   "id": "b1d50533",
   "metadata": {},
   "outputs": [
    {
     "data": {
      "image/png": "[encoded data removed]",
      "text/plain": [
       "<Figure size 504x1008 with 1 Axes>"
      ]
     },
     "metadata": {},
     "output_type": "display_data"
    }
   ],
   "source": [
    "sns.histplot(data = df_nums , x = 'Kilometers_Driven');"
   ]
  },
  {
   "cell_type": "code",
   "execution_count": 38,
   "id": "0e3bf6e1",
   "metadata": {},
   "outputs": [
    {
     "data": {
      "image/png": "[encoded data removed]",
      "text/plain": [
       "<Figure size 504x1008 with 1 Axes>"
      ]
     },
     "metadata": {},
     "output_type": "display_data"
    }
   ],
   "source": [
    "sns.histplot(data = df_nums , x = 'Mileage');"
   ]
  },
  {
   "cell_type": "code",
   "execution_count": 39,
   "id": "54b267d7",
   "metadata": {},
   "outputs": [
    {
     "data": {
      "image/png": "[encoded data removed]",
      "text/plain": [
       "<Figure size 504x1008 with 1 Axes>"
      ]
     },
     "metadata": {},
     "output_type": "display_data"
    }
   ],
   "source": [
    "sns.histplot(data = df_nums , x = 'Engine');"
   ]
  },
  {
   "cell_type": "code",
   "execution_count": 40,
   "id": "774f869c",
   "metadata": {},
   "outputs": [
    {
     "data": {
      "image/png": "[encoded data removed]",
      "text/plain": [
       "<Figure size 504x1008 with 1 Axes>"
      ]
     },
     "metadata": {},
     "output_type": "display_data"
    }
   ],
   "source": [
    "sns.histplot(data = df_nums , x = 'Power');"
   ]
  },
  {
   "cell_type": "code",
   "execution_count": 41,
   "id": "eb4bb844",
   "metadata": {},
   "outputs": [
    {
     "data": {
      "image/png": "[encoded data removed]",
      "text/plain": [
       "<Figure size 504x1008 with 1 Axes>"
      ]
     },
     "metadata": {},
     "output_type": "display_data"
    }
   ],
   "source": [
    "sns.histplot(data = df_nums , x = 'Price');"
   ]
  },
  {
   "cell_type": "markdown",
   "id": "e4557af4",
   "metadata": {},
   "source": [
    "## Data summery : \n",
    "    - Numerical columns follow the gussian distribution, but have Outliers \n",
    "    (My desicion is not to remove it,because it will ne useful)\n",
    "    - The countrt with the most sales spread is `Mumbai` and the least is `Ahmedabad`\n",
    "    - Most of cars is form 2010 and 2015"
   ]
  },
  {
   "cell_type": "code",
   "execution_count": 42,
   "id": "9e026c93",
   "metadata": {},
   "outputs": [
    {
     "data": {
      "text/html": [
       "<div>\n",
       "<style scoped>\n",
       "    .dataframe tbody tr th:only-of-type {\n",
       "        vertical-align: middle;\n",
       "    }\n",
       "\n",
       "    .dataframe tbody tr th {\n",
       "        vertical-align: top;\n",
       "    }\n",
       "\n",
       "    .dataframe thead th {\n",
       "        text-align: right;\n",
       "    }\n",
       "</style>\n",
       "<table border=\"1\" class=\"dataframe\">\n",
       "  <thead>\n",
       "    <tr style=\"text-align: right;\">\n",
       "      <th></th>\n",
       "      <th>Name</th>\n",
       "      <th>Location</th>\n",
       "      <th>Year</th>\n",
       "      <th>Kilometers_Driven</th>\n",
       "      <th>Fuel_Type</th>\n",
       "      <th>Transmission</th>\n",
       "      <th>Owner_Type</th>\n",
       "      <th>Mileage</th>\n",
       "      <th>Engine</th>\n",
       "      <th>Power</th>\n",
       "      <th>Seats</th>\n",
       "      <th>Price</th>\n",
       "      <th>Brand</th>\n",
       "    </tr>\n",
       "  </thead>\n",
       "  <tbody>\n",
       "    <tr>\n",
       "      <th>0</th>\n",
       "      <td>Maruti Wagon</td>\n",
       "      <td>Mumbai</td>\n",
       "      <td>2010</td>\n",
       "      <td>72000</td>\n",
       "      <td>CNG</td>\n",
       "      <td>Manual</td>\n",
       "      <td>First</td>\n",
       "      <td>26.6</td>\n",
       "      <td>998</td>\n",
       "      <td>58.16</td>\n",
       "      <td>5</td>\n",
       "      <td>1.75</td>\n",
       "      <td>Maruti</td>\n",
       "    </tr>\n",
       "    <tr>\n",
       "      <th>1</th>\n",
       "      <td>Hyundai Creta</td>\n",
       "      <td>Pune</td>\n",
       "      <td>2015</td>\n",
       "      <td>41000</td>\n",
       "      <td>Diesel</td>\n",
       "      <td>Manual</td>\n",
       "      <td>First</td>\n",
       "      <td>19.67</td>\n",
       "      <td>1582</td>\n",
       "      <td>126.2</td>\n",
       "      <td>5</td>\n",
       "      <td>12.5</td>\n",
       "      <td>Hyundai</td>\n",
       "    </tr>\n",
       "    <tr>\n",
       "      <th>2</th>\n",
       "      <td>Honda Jazz</td>\n",
       "      <td>Chennai</td>\n",
       "      <td>2011</td>\n",
       "      <td>46000</td>\n",
       "      <td>Petrol</td>\n",
       "      <td>Manual</td>\n",
       "      <td>First</td>\n",
       "      <td>18.2</td>\n",
       "      <td>1199</td>\n",
       "      <td>88.7</td>\n",
       "      <td>5</td>\n",
       "      <td>4.5</td>\n",
       "      <td>Honda</td>\n",
       "    </tr>\n",
       "    <tr>\n",
       "      <th>3</th>\n",
       "      <td>Maruti Ertiga</td>\n",
       "      <td>Chennai</td>\n",
       "      <td>2012</td>\n",
       "      <td>87000</td>\n",
       "      <td>Diesel</td>\n",
       "      <td>Manual</td>\n",
       "      <td>First</td>\n",
       "      <td>20.77</td>\n",
       "      <td>1248</td>\n",
       "      <td>88.76</td>\n",
       "      <td>7</td>\n",
       "      <td>6.0</td>\n",
       "      <td>Maruti</td>\n",
       "    </tr>\n",
       "    <tr>\n",
       "      <th>4</th>\n",
       "      <td>Audi A4</td>\n",
       "      <td>Coimbatore</td>\n",
       "      <td>2013</td>\n",
       "      <td>40670</td>\n",
       "      <td>Diesel</td>\n",
       "      <td>Automatic</td>\n",
       "      <td>Second</td>\n",
       "      <td>15.2</td>\n",
       "      <td>1968</td>\n",
       "      <td>140.8</td>\n",
       "      <td>5</td>\n",
       "      <td>17.74</td>\n",
       "      <td>Audi</td>\n",
       "    </tr>\n",
       "    <tr>\n",
       "      <th>...</th>\n",
       "      <td>...</td>\n",
       "      <td>...</td>\n",
       "      <td>...</td>\n",
       "      <td>...</td>\n",
       "      <td>...</td>\n",
       "      <td>...</td>\n",
       "      <td>...</td>\n",
       "      <td>...</td>\n",
       "      <td>...</td>\n",
       "      <td>...</td>\n",
       "      <td>...</td>\n",
       "      <td>...</td>\n",
       "      <td>...</td>\n",
       "    </tr>\n",
       "    <tr>\n",
       "      <th>6014</th>\n",
       "      <td>Maruti Swift</td>\n",
       "      <td>Delhi</td>\n",
       "      <td>2014</td>\n",
       "      <td>27365</td>\n",
       "      <td>Diesel</td>\n",
       "      <td>Manual</td>\n",
       "      <td>First</td>\n",
       "      <td>28.4</td>\n",
       "      <td>1248</td>\n",
       "      <td>74.0</td>\n",
       "      <td>5</td>\n",
       "      <td>4.75</td>\n",
       "      <td>Maruti</td>\n",
       "    </tr>\n",
       "    <tr>\n",
       "      <th>6015</th>\n",
       "      <td>Hyundai Xcent</td>\n",
       "      <td>Jaipur</td>\n",
       "      <td>2015</td>\n",
       "      <td>100000</td>\n",
       "      <td>Diesel</td>\n",
       "      <td>Manual</td>\n",
       "      <td>First</td>\n",
       "      <td>24.4</td>\n",
       "      <td>1120</td>\n",
       "      <td>71.0</td>\n",
       "      <td>5</td>\n",
       "      <td>4.0</td>\n",
       "      <td>Hyundai</td>\n",
       "    </tr>\n",
       "    <tr>\n",
       "      <th>6016</th>\n",
       "      <td>Mahindra Xylo</td>\n",
       "      <td>Jaipur</td>\n",
       "      <td>2012</td>\n",
       "      <td>55000</td>\n",
       "      <td>Diesel</td>\n",
       "      <td>Manual</td>\n",
       "      <td>Second</td>\n",
       "      <td>14.0</td>\n",
       "      <td>2498</td>\n",
       "      <td>112.0</td>\n",
       "      <td>8</td>\n",
       "      <td>2.9</td>\n",
       "      <td>Mahindra</td>\n",
       "    </tr>\n",
       "    <tr>\n",
       "      <th>6017</th>\n",
       "      <td>Maruti Wagon</td>\n",
       "      <td>Kolkata</td>\n",
       "      <td>2013</td>\n",
       "      <td>46000</td>\n",
       "      <td>Petrol</td>\n",
       "      <td>Manual</td>\n",
       "      <td>First</td>\n",
       "      <td>18.9</td>\n",
       "      <td>998</td>\n",
       "      <td>67.1</td>\n",
       "      <td>5</td>\n",
       "      <td>2.65</td>\n",
       "      <td>Maruti</td>\n",
       "    </tr>\n",
       "    <tr>\n",
       "      <th>6018</th>\n",
       "      <td>Chevrolet Beat</td>\n",
       "      <td>Hyderabad</td>\n",
       "      <td>2011</td>\n",
       "      <td>47000</td>\n",
       "      <td>Diesel</td>\n",
       "      <td>Manual</td>\n",
       "      <td>First</td>\n",
       "      <td>25.44</td>\n",
       "      <td>936</td>\n",
       "      <td>57.6</td>\n",
       "      <td>5</td>\n",
       "      <td>2.5</td>\n",
       "      <td>Chevrolet</td>\n",
       "    </tr>\n",
       "  </tbody>\n",
       "</table>\n",
       "<p>5912 rows × 13 columns</p>\n",
       "</div>"
      ],
      "text/plain": [
       "                Name    Location  Year  Kilometers_Driven Fuel_Type  \\\n",
       "0       Maruti Wagon      Mumbai  2010              72000       CNG   \n",
       "1      Hyundai Creta        Pune  2015              41000    Diesel   \n",
       "2         Honda Jazz     Chennai  2011              46000    Petrol   \n",
       "3      Maruti Ertiga     Chennai  2012              87000    Diesel   \n",
       "4            Audi A4  Coimbatore  2013              40670    Diesel   \n",
       "...              ...         ...   ...                ...       ...   \n",
       "6014    Maruti Swift       Delhi  2014              27365    Diesel   \n",
       "6015   Hyundai Xcent      Jaipur  2015             100000    Diesel   \n",
       "6016   Mahindra Xylo      Jaipur  2012              55000    Diesel   \n",
       "6017    Maruti Wagon     Kolkata  2013              46000    Petrol   \n",
       "6018  Chevrolet Beat   Hyderabad  2011              47000    Diesel   \n",
       "\n",
       "     Transmission Owner_Type  Mileage  Engine  Power  Seats  Price      Brand  \n",
       "0          Manual      First     26.6     998  58.16      5   1.75     Maruti  \n",
       "1          Manual      First    19.67    1582  126.2      5   12.5    Hyundai  \n",
       "2          Manual      First     18.2    1199   88.7      5    4.5      Honda  \n",
       "3          Manual      First    20.77    1248  88.76      7    6.0     Maruti  \n",
       "4       Automatic     Second     15.2    1968  140.8      5  17.74       Audi  \n",
       "...           ...        ...      ...     ...    ...    ...    ...        ...  \n",
       "6014       Manual      First     28.4    1248   74.0      5   4.75     Maruti  \n",
       "6015       Manual      First     24.4    1120   71.0      5    4.0    Hyundai  \n",
       "6016       Manual     Second     14.0    2498  112.0      8    2.9   Mahindra  \n",
       "6017       Manual      First     18.9     998   67.1      5   2.65     Maruti  \n",
       "6018       Manual      First    25.44     936   57.6      5    2.5  Chevrolet  \n",
       "\n",
       "[5912 rows x 13 columns]"
      ]
     },
     "execution_count": 42,
     "metadata": {},
     "output_type": "execute_result"
    }
   ],
   "source": [
    "df"
   ]
  },
  {
   "cell_type": "markdown",
   "id": "6875c168",
   "metadata": {},
   "source": [
    "________________________"
   ]
  },
  {
   "cell_type": "markdown",
   "id": "ccbbd097",
   "metadata": {},
   "source": [
    "# 4. Data pre-processing"
   ]
  },
  {
   "cell_type": "markdown",
   "id": "6a19117b",
   "metadata": {},
   "source": [
    "### 4.1 Data transformation "
   ]
  },
  {
   "cell_type": "markdown",
   "id": "edd92963",
   "metadata": {},
   "source": [
    "#### 4.1.1 Catogerical transformation"
   ]
  },
  {
   "cell_type": "markdown",
   "id": "ece235c6",
   "metadata": {},
   "source": [
    "##### 4.1.1.1 ordinal transformation"
   ]
  },
  {
   "cell_type": "code",
   "execution_count": 43,
   "id": "b972b14e",
   "metadata": {},
   "outputs": [],
   "source": [
    "transformation = {\n",
    "    \"First\":3,\n",
    "    \"Second\":2,\n",
    "    \"Third\":1,\n",
    "    \"Fourth & Above\":0\n",
    "}"
   ]
  },
  {
   "cell_type": "code",
   "execution_count": 44,
   "id": "a1e662cd",
   "metadata": {},
   "outputs": [],
   "source": [
    "df['Owner_Type'] = df['Owner_Type'].map(transformation)"
   ]
  },
  {
   "cell_type": "markdown",
   "id": "d7af5059",
   "metadata": {},
   "source": [
    "> The best case of owner type is (First), Of course the worst is Fourth & Above"
   ]
  },
  {
   "cell_type": "markdown",
   "id": "52a7d0df",
   "metadata": {},
   "source": [
    "##### 4.1.1.2 Nominal transformation\n"
   ]
  },
  {
   "cell_type": "code",
   "execution_count": 45,
   "id": "924985ac",
   "metadata": {},
   "outputs": [],
   "source": [
    "Nominal_data = ['Name','Location','Fuel_Type','Transmission','Brand']\n",
    "binaryencoder = ce.BinaryEncoder(cols=Nominal_data)\n",
    "df = binaryencoder.fit_transform(df)"
   ]
  },
  {
   "cell_type": "code",
   "execution_count": 46,
   "id": "c3ae0a3c",
   "metadata": {},
   "outputs": [],
   "source": [
    "Numerical_data = ['Year','Kilometers_Driven','Mileage','Engine','Power','Seats','Price']"
   ]
  },
  {
   "cell_type": "markdown",
   "id": "757a6686",
   "metadata": {},
   "source": [
    "#### 4.2.1 Numerical transformation "
   ]
  },
  {
   "cell_type": "code",
   "execution_count": 47,
   "id": "5ee56ba3",
   "metadata": {},
   "outputs": [],
   "source": [
    "# power = PowerTransformer()\n",
    "new_df = pd.DataFrame(PowerTransformer().fit_transform(df), columns=df.columns, index=df.index)"
   ]
  },
  {
   "cell_type": "markdown",
   "id": "3136ee74",
   "metadata": {},
   "source": [
    "### 4.1 Data splitting "
   ]
  },
  {
   "cell_type": "code",
   "execution_count": 48,
   "id": "2690b46c",
   "metadata": {},
   "outputs": [],
   "source": [
    "# define dataset\n",
    "X, y = new_df.drop(\"Price\",axis=1) , new_df[\"Price\"] \n",
    "\n",
    "# split into train and test sets\n",
    "X_train, X_test, y_train, y_test = train_test_split(X, y, test_size=0.3, random_state=42)"
   ]
  },
  {
   "cell_type": "markdown",
   "id": "876e37fd",
   "metadata": {},
   "source": [
    "# 5.0 Modeling "
   ]
  },
  {
   "cell_type": "markdown",
   "id": "2eac86ed",
   "metadata": {},
   "source": [
    "### 5.1 Linear regression (OLS method)"
   ]
  },
  {
   "cell_type": "code",
   "execution_count": 49,
   "id": "17603752",
   "metadata": {},
   "outputs": [
    {
     "name": "stdout",
     "output_type": "stream",
     "text": [
      "R-Squered Trian 87.81 %\n",
      "R-Squered Test 88.41 %\n",
      "RMSE: 0.11025667559169633\n"
     ]
    }
   ],
   "source": [
    "reg = LinearRegression().fit(X_train,(y_train))\n",
    "print(\"R-Squered Trian\",round((reg.score(X_train,  (y_train))*100),2),'%')\n",
    "print(\"R-Squered Test\",round((reg.score(X_test,  (y_test))*100),2),'%')\n",
    "y_pred = reg.predict(X_test)\n",
    "print(f\"RMSE: {mean_squared_error(y_pred,(y_test))}\")"
   ]
  },
  {
   "cell_type": "markdown",
   "id": "927266c0",
   "metadata": {},
   "source": [
    "### 5.3 Linear regression (Lasso method)"
   ]
  },
  {
   "cell_type": "code",
   "execution_count": 50,
   "id": "30352dba",
   "metadata": {},
   "outputs": [
    {
     "data": {
      "text/plain": [
       "PolynomialFeatures()"
      ]
     },
     "execution_count": 50,
     "metadata": {},
     "output_type": "execute_result"
    }
   ],
   "source": [
    "from sklearn.preprocessing import PolynomialFeatures\n",
    "poly_reg = PolynomialFeatures(degree = 2)\n",
    "poly_reg.fit(X_train)"
   ]
  },
  {
   "cell_type": "code",
   "execution_count": 51,
   "id": "4edf21f8",
   "metadata": {},
   "outputs": [],
   "source": [
    "X_train = poly_reg.transform(X_train)\n",
    "X_test = poly_reg.transform(X_test)"
   ]
  },
  {
   "cell_type": "code",
   "execution_count": 52,
   "id": "caa5b79c",
   "metadata": {},
   "outputs": [
    {
     "name": "stdout",
     "output_type": "stream",
     "text": [
      "R-Squered Trian 94.96 %\n",
      "R-Squered Test 94.43 %\n",
      "RMSE: 0.052935648917119674\n"
     ]
    }
   ],
   "source": [
    "reg = LassoCV().fit(X_train,(y_train))\n",
    "print(\"R-Squered Trian\",round((reg.score(X_train,  (y_train))*100),2),'%')\n",
    "print(\"R-Squered Test\",round((reg.score(X_test,  (y_test))*100),2),'%')\n",
    "y_pred = reg.predict(X_test)\n",
    "print(f\"RMSE: {mean_squared_error(y_pred,(y_test))}\")"
   ]
  },
  {
   "cell_type": "markdown",
   "id": "c9882260",
   "metadata": {},
   "source": [
    "### 5.4 Linear regression (Ridge method)"
   ]
  },
  {
   "cell_type": "code",
   "execution_count": 53,
   "id": "ec40fb38",
   "metadata": {},
   "outputs": [
    {
     "name": "stdout",
     "output_type": "stream",
     "text": [
      "R-Squered Trian 95.27 %\n",
      "R-Squered Test 94.21 %\n",
      "RMSE: 0.05504070460227052\n"
     ]
    }
   ],
   "source": [
    "reg = RidgeCV().fit(X_train,(y_train))\n",
    "print(\"R-Squered Trian\",round((reg.score(X_train,  (y_train))*100),2),'%')\n",
    "print(\"R-Squered Test\",round((reg.score(X_test,  (y_test))*100),2),'%')\n",
    "y_pred = reg.predict(X_test)\n",
    "print(f\"RMSE: {mean_squared_error(y_pred,(y_test))}\")"
   ]
  },
  {
   "cell_type": "markdown",
   "id": "0803513d",
   "metadata": {},
   "source": [
    "### 5.4 Linear regression (ElasticNetCV method)"
   ]
  },
  {
   "cell_type": "code",
   "execution_count": 54,
   "id": "96e728a4",
   "metadata": {},
   "outputs": [
    {
     "name": "stdout",
     "output_type": "stream",
     "text": [
      "R-Squered Trian 94.98 %\n",
      "R-Squered Test 94.44 %\n",
      "RMSE: 0.052891528601156125\n"
     ]
    }
   ],
   "source": [
    "reg = ElasticNetCV().fit(X_train,(y_train))\n",
    "print(\"R-Squered Trian\",round((reg.score(X_train,  (y_train))*100),2),'%')\n",
    "print(\"R-Squered Test\",round((reg.score(X_test,  (y_test))*100),2),'%')\n",
    "y_pred = reg.predict(X_test)\n",
    "print(f\"RMSE: {mean_squared_error(y_pred,(y_test))}\")"
   ]
  },
  {
   "cell_type": "markdown",
   "id": "b5c17185",
   "metadata": {},
   "source": [
    "> The best reqularization method That fit data well __ElasticNet__"
   ]
  }
 ],
 "metadata": {
  "kernelspec": {
   "display_name": "Python 3 (ipykernel)",
   "language": "python",
   "name": "python3"
  },
  "language_info": {
   "codemirror_mode": {
    "name": "ipython",
    "version": 3
   },
   "file_extension": ".py",
   "mimetype": "text/x-python",
   "name": "python",
   "nbconvert_exporter": "python",
   "pygments_lexer": "ipython3",
   "version": "3.9.12"
  }
 },
 "nbformat": 4,
 "nbformat_minor": 5
}
